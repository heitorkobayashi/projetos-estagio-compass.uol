{
 "cells": [
  {
   "cell_type": "code",
   "execution_count": 1,
   "metadata": {},
   "outputs": [
    {
     "data": {
      "text/html": [
       "<div>\n",
       "<style scoped>\n",
       "    .dataframe tbody tr th:only-of-type {\n",
       "        vertical-align: middle;\n",
       "    }\n",
       "\n",
       "    .dataframe tbody tr th {\n",
       "        vertical-align: top;\n",
       "    }\n",
       "\n",
       "    .dataframe thead th {\n",
       "        text-align: right;\n",
       "    }\n",
       "</style>\n",
       "<table border=\"1\" class=\"dataframe\">\n",
       "  <thead>\n",
       "    <tr style=\"text-align: right;\">\n",
       "      <th></th>\n",
       "      <th>Titulo</th>\n",
       "      <th>Data de lançamento</th>\n",
       "      <th>Visão geral</th>\n",
       "      <th>Votos</th>\n",
       "      <th>Média de votos</th>\n",
       "    </tr>\n",
       "  </thead>\n",
       "  <tbody>\n",
       "    <tr>\n",
       "      <th>0</th>\n",
       "      <td>Cinema Paradiso</td>\n",
       "      <td>1988-11-17</td>\n",
       "      <td>Um diretor de cinema lembra como, em sua infân...</td>\n",
       "      <td>4365</td>\n",
       "      <td>8.4</td>\n",
       "    </tr>\n",
       "  </tbody>\n",
       "</table>\n",
       "</div>"
      ],
      "text/plain": [
       "            Titulo Data de lançamento  \\\n",
       "0  Cinema Paradiso         1988-11-17   \n",
       "\n",
       "                                         Visão geral  Votos  Média de votos  \n",
       "0  Um diretor de cinema lembra como, em sua infân...   4365             8.4  "
      ]
     },
     "metadata": {},
     "output_type": "display_data"
    }
   ],
   "source": [
    "import requests\n",
    "import pandas as pd\n",
    "from IPython.display import display\n",
    "\n",
    "api_key = \"67c50927d4989b0a9353db649e01e4c9\"\n",
    "url = f\"https://api.themoviedb.org/3/movie/top_rated?api_key={api_key}&language=pt-BR\"\n",
    "\n",
    "response = requests.get(url)\n",
    "data = response.json()\n",
    "\n",
    "filmes = []\n",
    "\n",
    "for movie in data ['results']:\n",
    "    df = {'Titulo': movie['title'],\n",
    "'Data de lançamento': movie['release_date'],\n",
    "'Visão geral': movie['overview'],\n",
    "'Votos': movie['vote_count'],\n",
    "'Média de votos': movie['vote_average']}\n",
    "    \n",
    "filmes.append(df)\n",
    "\n",
    "df = pd.DataFrame(filmes)\n",
    "display(df)\n"
   ]
  }
 ],
 "metadata": {
  "kernelspec": {
   "display_name": "Python 3",
   "language": "python",
   "name": "python3"
  },
  "language_info": {
   "codemirror_mode": {
    "name": "ipython",
    "version": 3
   },
   "file_extension": ".py",
   "mimetype": "text/x-python",
   "name": "python",
   "nbconvert_exporter": "python",
   "pygments_lexer": "ipython3",
   "version": "3.12.3"
  }
 },
 "nbformat": 4,
 "nbformat_minor": 2
}
