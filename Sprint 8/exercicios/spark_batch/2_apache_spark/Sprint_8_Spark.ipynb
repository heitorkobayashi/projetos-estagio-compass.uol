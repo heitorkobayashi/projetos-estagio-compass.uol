{
 "cells": [
  {
   "cell_type": "markdown",
   "id": "ec980e0f-c5c4-470b-9860-8b90ba45e816",
   "metadata": {},
   "source": [
    "3.1. Etapa 1"
   ]
  },
  {
   "cell_type": "code",
   "execution_count": 4,
   "id": "d865d979-856a-46cd-9b71-43a1859cf00f",
   "metadata": {},
   "outputs": [],
   "source": [
    "from pyspark.sql import SparkSession\n",
    "from pyspark import SparkContext, SQLContext"
   ]
  },
  {
   "cell_type": "code",
   "execution_count": 43,
   "id": "48b1241e-1250-4e4b-b08d-9be7d194adf8",
   "metadata": {},
   "outputs": [
    {
     "name": "stdout",
     "output_type": "stream",
     "text": [
      "+--------------+\n",
      "|           _c0|\n",
      "+--------------+\n",
      "|  Melvin Meyer|\n",
      "|Marvin Vicente|\n",
      "|Edward Kistler|\n",
      "| Paulette Wong|\n",
      "|   Billy Kalas|\n",
      "+--------------+\n",
      "only showing top 5 rows\n",
      "\n"
     ]
    }
   ],
   "source": [
    "spark = SparkSession \\\n",
    "        .builder \\\n",
    "        .master (\"local[*]\") \\\n",
    "        .appName (\"Exercicio Intro\") \\\n",
    "        .getOrCreate()\n",
    "\n",
    "path_file = \"nomes_aleatorios.txt\"\n",
    "\n",
    "df_nomes = spark.read.csv(path_file)\n",
    "\n",
    "df_nomes.show(5)\n"
   ]
  },
  {
   "cell_type": "markdown",
   "id": "7916786e-bd25-4fa3-acf4-1de152fe9931",
   "metadata": {},
   "source": [
    "3.2. Etapa 2"
   ]
  },
  {
   "cell_type": "code",
   "execution_count": 11,
   "id": "c37916f6-4027-48e4-aaec-100996a6278d",
   "metadata": {},
   "outputs": [
    {
     "name": "stdout",
     "output_type": "stream",
     "text": [
      "root\n",
      " |-- Nomes: string (nullable = true)\n",
      "\n",
      "+----------------+\n",
      "|           Nomes|\n",
      "+----------------+\n",
      "|    Melvin Meyer|\n",
      "|  Marvin Vicente|\n",
      "|  Edward Kistler|\n",
      "|   Paulette Wong|\n",
      "|     Billy Kalas|\n",
      "|     Rodger Keys|\n",
      "|Salvatore Arnold|\n",
      "|     Janie Davis|\n",
      "|    Shirley Rice|\n",
      "|     Ruby Oleary|\n",
      "+----------------+\n",
      "only showing top 10 rows\n",
      "\n"
     ]
    }
   ],
   "source": [
    "df_nomes = df_nomes.withColumnRenamed(\"_c0\", \"Nomes\")\n",
    "df_nomes.printSchema()\n",
    "df_nomes.show(10)"
   ]
  },
  {
   "cell_type": "markdown",
   "id": "259d58fc-3940-45d2-868a-081c7cbeab78",
   "metadata": {},
   "source": [
    "3.3. Etapa 3"
   ]
  },
  {
   "cell_type": "code",
   "execution_count": 18,
   "id": "8b034afc-e086-4d55-8277-08a7e91d3f5a",
   "metadata": {},
   "outputs": [
    {
     "name": "stdout",
     "output_type": "stream",
     "text": [
      "root\n",
      " |-- Nomes: string (nullable = true)\n",
      " |-- Escolaridade: string (nullable = false)\n",
      "\n",
      "+----------------+------------+\n",
      "|           Nomes|Escolaridade|\n",
      "+----------------+------------+\n",
      "|    Melvin Meyer| Fundamental|\n",
      "|  Marvin Vicente|    Superior|\n",
      "|  Edward Kistler| Fundamental|\n",
      "|   Paulette Wong|    Superior|\n",
      "|     Billy Kalas| Fundamental|\n",
      "|     Rodger Keys|    Superior|\n",
      "|Salvatore Arnold|    Superior|\n",
      "|     Janie Davis|    Superior|\n",
      "|    Shirley Rice|       Medio|\n",
      "|     Ruby Oleary| Fundamental|\n",
      "+----------------+------------+\n",
      "only showing top 10 rows\n",
      "\n"
     ]
    }
   ],
   "source": [
    "from pyspark.sql.functions import rand, when\n",
    "\n",
    "df_nomes = df_nomes.withColumn(\n",
    "    \"Escolaridade\",\n",
    "    when((rand() * 3).cast(\"int\") == 0, \"Fundamental\")\n",
    "    .when((rand() * 3).cast(\"int\") == 1, \"Medio\")\n",
    "    .otherwise(\"Superior\")\n",
    ")\n",
    "\n",
    "df_nomes.printSchema()\n",
    "df_nomes.show(10)"
   ]
  },
  {
   "cell_type": "markdown",
   "id": "b77f7437-9fca-47c2-b833-a58292f53bea",
   "metadata": {},
   "source": [
    "3.4. Etapa 4"
   ]
  },
  {
   "cell_type": "code",
   "execution_count": 23,
   "id": "a99c2ff4-19be-4981-895c-1be6dfd489b1",
   "metadata": {},
   "outputs": [
    {
     "name": "stdout",
     "output_type": "stream",
     "text": [
      "+----------------+------------+---------------+\n",
      "|           Nomes|Escolaridade|           Pais|\n",
      "+----------------+------------+---------------+\n",
      "|    Melvin Meyer| Fundamental|        Uruguai|\n",
      "|  Marvin Vicente|    Superior|           Peru|\n",
      "|  Edward Kistler| Fundamental|       Colombia|\n",
      "|   Paulette Wong|    Superior|       Colombia|\n",
      "|     Billy Kalas| Fundamental|          Chile|\n",
      "|     Rodger Keys|    Superior|           Peru|\n",
      "|Salvatore Arnold|    Superior|         Brasil|\n",
      "|     Janie Davis|    Superior|        Uruguai|\n",
      "|    Shirley Rice|       Medio|       Suriname|\n",
      "|     Ruby Oleary| Fundamental|Guiana Francesa|\n",
      "+----------------+------------+---------------+\n",
      "only showing top 10 rows\n",
      "\n"
     ]
    }
   ],
   "source": [
    "from pyspark.sql.functions import col\n",
    "\n",
    "df_nomes = df_nomes.withColumn(\"rand_num\", (rand() * 13).cast(\"int\"))\n",
    "\n",
    "df_nomes = df_nomes.withColumn(\n",
    "    \"Pais\",\n",
    "    when(col(\"rand_num\") == 0, \"Brasil\")\n",
    "    .when(col(\"rand_num\") == 1, \"Uruguai\")\n",
    "    .when(col(\"rand_num\") == 2, \"Argentina\")\n",
    "    .when(col(\"rand_num\") == 3, \"Chile\")\n",
    "    .when(col(\"rand_num\") == 4, \"Paraguai\")\n",
    "    .when(col(\"rand_num\") == 5, \"Bolivia\")\n",
    "    .when(col(\"rand_num\") == 6, \"Peru\")\n",
    "    .when(col(\"rand_num\") == 7, \"Equador\")\n",
    "    .when(col(\"rand_num\") == 8, \"Colombia\")\n",
    "    .when(col(\"rand_num\") == 9, \"Venezuela\")\n",
    "    .when(col(\"rand_num\") == 10, \"Guiana\")\n",
    "    .when(col(\"rand_num\") == 11, \"Suriname\")\n",
    "    .otherwise(\"Guiana Francesa\")\n",
    ")\n",
    "\n",
    "df_nomes = df_nomes.drop(\"rand_num\")\n",
    "df_nomes.show(10)"
   ]
  },
  {
   "cell_type": "markdown",
   "id": "8dbad976-d024-4590-989e-5352e14e78e0",
   "metadata": {},
   "source": [
    "3.5. Etapa 5"
   ]
  },
  {
   "cell_type": "code",
   "execution_count": 24,
   "id": "8d18d4a9-5f62-4088-a3b1-622b89726563",
   "metadata": {},
   "outputs": [
    {
     "name": "stdout",
     "output_type": "stream",
     "text": [
      "+----------------+------------+---------------+-------------+\n",
      "|           Nomes|Escolaridade|           Pais|AnoNascimento|\n",
      "+----------------+------------+---------------+-------------+\n",
      "|    Melvin Meyer| Fundamental|        Uruguai|         1964|\n",
      "|  Marvin Vicente|    Superior|           Peru|         1994|\n",
      "|  Edward Kistler| Fundamental|       Colombia|         1984|\n",
      "|   Paulette Wong|    Superior|       Colombia|         1969|\n",
      "|     Billy Kalas| Fundamental|          Chile|         1956|\n",
      "|     Rodger Keys|    Superior|           Peru|         1988|\n",
      "|Salvatore Arnold|    Superior|         Brasil|         1983|\n",
      "|     Janie Davis|    Superior|        Uruguai|         1971|\n",
      "|    Shirley Rice|       Medio|       Suriname|         1952|\n",
      "|     Ruby Oleary| Fundamental|Guiana Francesa|         2009|\n",
      "+----------------+------------+---------------+-------------+\n",
      "only showing top 10 rows\n",
      "\n"
     ]
    }
   ],
   "source": [
    "df_nomes = df_nomes.withColumn(\n",
    "    \"AnoNascimento\", \n",
    "    (rand() * (2010 - 1945 + 1) + 1945).cast(\"int\")\n",
    ")\n",
    "\n",
    "df_nomes.show(10)"
   ]
  },
  {
   "cell_type": "markdown",
   "id": "bf770b90-ff19-4184-a9c4-d40b907ed74b",
   "metadata": {},
   "source": [
    "3.6. Etapa 6"
   ]
  },
  {
   "cell_type": "code",
   "execution_count": 27,
   "id": "72e0ab16-57fb-4cb5-88fd-5ed62cfb61b3",
   "metadata": {},
   "outputs": [
    {
     "name": "stdout",
     "output_type": "stream",
     "text": [
      "+----------------+------------+---------------+-------------+\n",
      "|           Nomes|Escolaridade|           Pais|AnoNascimento|\n",
      "+----------------+------------+---------------+-------------+\n",
      "|     Ruby Oleary| Fundamental|Guiana Francesa|         2009|\n",
      "| James Dickerson|    Superior|Guiana Francesa|         2004|\n",
      "|  Bertha Scanlon|       Medio|      Argentina|         2007|\n",
      "|   Leonard Swain|       Medio|          Chile|         2004|\n",
      "|    Timothy Owen|    Superior|        Bolivia|         2001|\n",
      "|Florence Simmons|    Superior|          Chile|         2002|\n",
      "|     Kory Taylor| Fundamental|       Colombia|         2001|\n",
      "|    Jason Martin|    Superior|         Guiana|         2002|\n",
      "|     Danny Bloom|    Superior|       Paraguai|         2001|\n",
      "|     Ima Riddick| Fundamental|      Argentina|         2002|\n",
      "+----------------+------------+---------------+-------------+\n",
      "only showing top 10 rows\n",
      "\n"
     ]
    }
   ],
   "source": [
    "df_pessoas_sec_21 = df_nomes.filter(col(\"AnoNascimento\") >= 2001).select(\"*\")\n",
    "\n",
    "df_pessoas_sec_21.show(10)"
   ]
  },
  {
   "cell_type": "markdown",
   "id": "aa0e54b5-7c26-4dbf-859a-beb8431254be",
   "metadata": {},
   "source": [
    "3.7. Etapa 7"
   ]
  },
  {
   "cell_type": "code",
   "execution_count": 29,
   "id": "538227d7-d008-40dc-9817-bbdc4096a227",
   "metadata": {},
   "outputs": [
    {
     "name": "stdout",
     "output_type": "stream",
     "text": [
      "+----------------+------------+---------------+-------------+\n",
      "|           Nomes|Escolaridade|           Pais|AnoNascimento|\n",
      "+----------------+------------+---------------+-------------+\n",
      "|     Ruby Oleary| Fundamental|Guiana Francesa|         2009|\n",
      "| James Dickerson|    Superior|Guiana Francesa|         2004|\n",
      "|  Bertha Scanlon|       Medio|      Argentina|         2007|\n",
      "|   Leonard Swain|       Medio|          Chile|         2004|\n",
      "|    Timothy Owen|    Superior|        Bolivia|         2001|\n",
      "|Florence Simmons|    Superior|          Chile|         2002|\n",
      "|     Kory Taylor| Fundamental|       Colombia|         2001|\n",
      "|    Jason Martin|    Superior|         Guiana|         2002|\n",
      "|     Danny Bloom|    Superior|       Paraguai|         2001|\n",
      "|     Ima Riddick| Fundamental|      Argentina|         2002|\n",
      "+----------------+------------+---------------+-------------+\n",
      "only showing top 10 rows\n",
      "\n"
     ]
    }
   ],
   "source": [
    "df_nomes.createOrReplaceTempView (\"pessoas\")\n",
    "\n",
    "df_neste_seculo = spark.sql(\"select * from pessoas where AnoNascimento >= 2001\")\n",
    "\n",
    "df_neste_seculo.show(10)"
   ]
  },
  {
   "cell_type": "markdown",
   "id": "47a35c63-7691-45fc-9cda-1648873a5893",
   "metadata": {},
   "source": [
    "3.8. Etapa 8"
   ]
  },
  {
   "cell_type": "code",
   "execution_count": 33,
   "id": "ce74c666-1512-40ec-9892-6e241cabe867",
   "metadata": {},
   "outputs": [
    {
     "name": "stdout",
     "output_type": "stream",
     "text": [
      "+----------------+------------+---------------+-------------+\n",
      "|           Nomes|Escolaridade|           Pais|AnoNascimento|\n",
      "+----------------+------------+---------------+-------------+\n",
      "|  Marvin Vicente|    Superior|           Peru|         1994|\n",
      "|  Edward Kistler| Fundamental|       Colombia|         1984|\n",
      "|     Rodger Keys|    Superior|           Peru|         1988|\n",
      "|Salvatore Arnold|    Superior|         Brasil|         1983|\n",
      "|   Fred Portales|    Superior|      Argentina|         1982|\n",
      "|      Kyle Henry| Fundamental|       Paraguai|         1992|\n",
      "|    David Medina|       Medio|          Chile|         1986|\n",
      "|  Kimberly Brown|    Superior|Guiana Francesa|         1987|\n",
      "| Elizabeth Crowe|       Medio|       Suriname|         1993|\n",
      "|   Richard Lerma|       Medio|       Colombia|         1990|\n",
      "+----------------+------------+---------------+-------------+\n",
      "only showing top 10 rows\n",
      "\n"
     ]
    }
   ],
   "source": [
    "df_millenails = df_nomes.filter((col(\"AnoNascimento\") >= 1980) & (col(\"AnoNascimento\") <= 1994)).select(\"*\")\n",
    "\n",
    "df_millenails.show(10)"
   ]
  },
  {
   "cell_type": "markdown",
   "id": "f9b42a2d-7409-4263-a055-3aec15f880db",
   "metadata": {},
   "source": [
    "3.9. Etapa 9"
   ]
  },
  {
   "cell_type": "code",
   "execution_count": 35,
   "id": "ebda7b9b-150f-4346-baef-7d22471c053e",
   "metadata": {},
   "outputs": [
    {
     "name": "stdout",
     "output_type": "stream",
     "text": [
      "+----------------+------------+---------+-------------+\n",
      "|           Nomes|Escolaridade|     Pais|AnoNascimento|\n",
      "+----------------+------------+---------+-------------+\n",
      "|  Edward Kistler| Fundamental| Colombia|         1984|\n",
      "|Salvatore Arnold|    Superior|   Brasil|         1983|\n",
      "|   Fred Portales|    Superior|Argentina|         1982|\n",
      "|    Nicole Brown| Fundamental|   Guiana|         1980|\n",
      "|   Mable Astorga|    Superior| Paraguai|         1984|\n",
      "|    Hilda Gordon|    Superior| Suriname|         1982|\n",
      "|    Rosa Britton|    Superior| Paraguai|         1981|\n",
      "|   Joseph Sutton|       Medio|   Brasil|         1980|\n",
      "|  Katrina Graham|    Superior| Suriname|         1980|\n",
      "|    Dallas Wolff| Fundamental|Argentina|         1981|\n",
      "+----------------+------------+---------+-------------+\n",
      "only showing top 10 rows\n",
      "\n"
     ]
    }
   ],
   "source": [
    "df_nomes.createOrReplaceTempView (\"pessoas\")\n",
    "\n",
    "df_novos_millenails = spark.sql(\"Select * from pessoas where AnoNascimento between 1980 and 1984\")\n",
    "\n",
    "df_novos_millenails.show(10)"
   ]
  },
  {
   "cell_type": "markdown",
   "id": "d0a72aec-d873-4cb2-9a20-81af3c39cc72",
   "metadata": {},
   "source": [
    "3.10. Etapa 10"
   ]
  },
  {
   "cell_type": "code",
   "execution_count": 42,
   "id": "43ddf370-dc4a-4023-8caa-2efdc37d25c3",
   "metadata": {},
   "outputs": [
    {
     "name": "stdout",
     "output_type": "stream",
     "text": [
      "+---------------+----------------------+----------+\n",
      "|Pais           |Geracao               |Quantidade|\n",
      "+---------------+----------------------+----------+\n",
      "|Argentina      |Baby Boomers          |233382    |\n",
      "|Argentina      |Geração X             |174638    |\n",
      "|Argentina      |Geração Z             |186413    |\n",
      "|Argentina      |Millenaisl (Geração Y)|174706    |\n",
      "|Bolivia        |Baby Boomers          |232486    |\n",
      "|Bolivia        |Geração X             |174844    |\n",
      "|Bolivia        |Geração Z             |186438    |\n",
      "|Bolivia        |Millenaisl (Geração Y)|174513    |\n",
      "|Brasil         |Baby Boomers          |233095    |\n",
      "|Brasil         |Geração X             |174919    |\n",
      "|Brasil         |Geração Z             |186828    |\n",
      "|Brasil         |Millenaisl (Geração Y)|174952    |\n",
      "|Chile          |Baby Boomers          |233699    |\n",
      "|Chile          |Geração X             |174269    |\n",
      "|Chile          |Geração Z             |186990    |\n",
      "|Chile          |Millenaisl (Geração Y)|174295    |\n",
      "|Colombia       |Baby Boomers          |232092    |\n",
      "|Colombia       |Geração X             |174659    |\n",
      "|Colombia       |Geração Z             |186432    |\n",
      "|Colombia       |Millenaisl (Geração Y)|174820    |\n",
      "|Equador        |Baby Boomers          |233324    |\n",
      "|Equador        |Geração X             |174915    |\n",
      "|Equador        |Geração Z             |186644    |\n",
      "|Equador        |Millenaisl (Geração Y)|174186    |\n",
      "|Guiana         |Baby Boomers          |234570    |\n",
      "|Guiana         |Geração X             |174565    |\n",
      "|Guiana         |Geração Z             |186122    |\n",
      "|Guiana         |Millenaisl (Geração Y)|175276    |\n",
      "|Guiana Francesa|Baby Boomers          |232961    |\n",
      "|Guiana Francesa|Geração X             |175071    |\n",
      "|Guiana Francesa|Geração Z             |186327    |\n",
      "|Guiana Francesa|Millenaisl (Geração Y)|175391    |\n",
      "|Paraguai       |Baby Boomers          |232716    |\n",
      "|Paraguai       |Geração X             |174352    |\n",
      "|Paraguai       |Geração Z             |186773    |\n",
      "|Paraguai       |Millenaisl (Geração Y)|175456    |\n",
      "|Peru           |Baby Boomers          |232441    |\n",
      "|Peru           |Geração X             |174411    |\n",
      "|Peru           |Geração Z             |186462    |\n",
      "|Peru           |Millenaisl (Geração Y)|174652    |\n",
      "|Suriname       |Baby Boomers          |233015    |\n",
      "|Suriname       |Geração X             |175656    |\n",
      "|Suriname       |Geração Z             |186887    |\n",
      "|Suriname       |Millenaisl (Geração Y)|175188    |\n",
      "|Uruguai        |Baby Boomers          |233241    |\n",
      "|Uruguai        |Geração X             |175067    |\n",
      "|Uruguai        |Geração Z             |186878    |\n",
      "|Uruguai        |Millenaisl (Geração Y)|175001    |\n",
      "|Venezuela      |Baby Boomers          |232562    |\n",
      "|Venezuela      |Geração X             |174027    |\n",
      "|Venezuela      |Geração Z             |186414    |\n",
      "|Venezuela      |Millenaisl (Geração Y)|174979    |\n",
      "+---------------+----------------------+----------+\n",
      "\n"
     ]
    }
   ],
   "source": [
    "df_nomes.createOrReplaceTempView (\"pessoas\")\n",
    "\n",
    "query = \"\"\"\n",
    "    SELECT Pais,\n",
    "            CASE\n",
    "                WHEN AnoNascimento Between 1944 AND 1964 THEN 'Baby Boomers'\n",
    "                WHEN AnoNascimento Between 1965 AND 1979 THEN 'Geração X'\n",
    "                WHEN AnoNascimento Between 1980 AND 1994 THEN 'Millenaisl (Geração Y)'\n",
    "                ELSE 'Geração Z'\n",
    "            END AS Geracao,\n",
    "            COUNT(*) AS Quantidade\n",
    "    FROM pessoas\n",
    "    GROUP BY Pais, Geracao\n",
    "    ORDER BY Pais, Geracao\n",
    "\"\"\"\n",
    "\n",
    "resultado = spark.sql(query)\n",
    "resultado.show(n=resultado.count(), truncate=False)"
   ]
  },
  {
   "cell_type": "code",
   "execution_count": null,
   "id": "2451c71d-b0e5-4edc-b004-f64e17147a38",
   "metadata": {},
   "outputs": [],
   "source": []
  }
 ],
 "metadata": {
  "kernelspec": {
   "display_name": "Python 3",
   "language": "python",
   "name": "python3"
  },
  "language_info": {
   "codemirror_mode": {
    "name": "ipython",
    "version": 3
   },
   "file_extension": ".py",
   "mimetype": "text/x-python",
   "name": "python",
   "nbconvert_exporter": "python",
   "pygments_lexer": "ipython3",
   "version": "3.12.3"
  }
 },
 "nbformat": 4,
 "nbformat_minor": 5
}
